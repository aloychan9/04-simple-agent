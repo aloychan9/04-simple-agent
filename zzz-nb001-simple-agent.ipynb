{
 "cells": [
  {
   "cell_type": "markdown",
   "id": "5d733e1a-fff5-4739-b702-cc4af0a69d41",
   "metadata": {},
   "source": [
    "# How to build a simple Agent LLM App with LangGraph\n",
    "* Very basic tool-using Agent LLM App with memory.\n",
    "\n",
    "Language models can't do anything on their own; they can only create text based on what you ask them. However, LangChain allows people to build agents—think of these as smart systems or helpers— that use language models to think and decide what to do next.\n",
    "\n",
    "Here’s how it works:\n",
    "1. **Use the Language Model as a Brain**: The agent uses the language model to figure out which actions it should take, based on the information it has or what you ask it to do.\n",
    "2. **Taking Action**: After deciding, the agent then goes ahead and does those actions.\n",
    "3. **Learning and Adjusting**: Once the actions are done, the results can be given back to the language model. This helps the model check if everything is complete or if it needs to do something else.\n",
    "\n",
    "So, essentially, LangChain helps turn a language model from just a tool for writing and answering into a system that can act and react, almost like a very simple robot brain.\n",
    "\n",
    "Here we will build an agent that can interact with a search engine. You will be able to ask this agent questions, watch it calling the search tool, and have conversations with it."
   ]
  },
  {
   "cell_type": "markdown",
   "id": "d0399355-dece-4701-9bf4-4c204fe74929",
   "metadata": {},
   "source": [
    "## Concepts included\n",
    "* [LangGraph](https://python.langchain.com/v0.2/docs/concepts/#langgraph).\n",
    "\n",
    "LangGraph is a library created by the LangChain team for building stateful, multi-actor applications with LLMs, used to create agent and multi-agent workflows."
   ]
  },
  {
   "cell_type": "markdown",
   "id": "48386f20-c929-48a9-8720-0953fcd67dd0",
   "metadata": {},
   "source": [
    "## Setup"
   ]
  },
  {
   "cell_type": "markdown",
   "id": "e65ee060-21f2-4e01-b283-1fd656dac1e9",
   "metadata": {},
   "source": [
    "#### After you download the code from the github repository in your computer\n",
    "In terminal:\n",
    "* cd project_name\n",
    "* pyenv local 3.11.4\n",
    "* poetry install\n",
    "* poetry shell\n",
    "\n",
    "#### To open the notebook with Jupyter Notebooks\n",
    "In terminal:\n",
    "* jupyter lab\n",
    "\n",
    "Go to the folder of notebooks and open the right notebook.\n",
    "\n",
    "#### To see the code in Virtual Studio Code or your editor of choice.\n",
    "* open Virtual Studio Code or your editor of choice.\n",
    "* open the project-folder\n",
    "* open the 001-simple-agent.py file"
   ]
  },
  {
   "cell_type": "markdown",
   "id": "babbed42-5eaa-47f8-8c4c-d88ab4a6a5e3",
   "metadata": {},
   "source": [
    "## Create your .env file\n",
    "* In the github repo we have included a file named .env.example\n",
    "* Rename that file to .env file and here is where you will add your confidential api keys. Remember to include:\n",
    "* OPENAI_API_KEY=your_openai_api_key\n",
    "* LANGCHAIN_TRACING_V2=true\n",
    "* LANGCHAIN_ENDPOINT=https://api.smith.langchain.com\n",
    "* LANGCHAIN_API_KEY=your_langchain_api_key\n",
    "* LANGCHAIN_PROJECT=your_project_name"
   ]
  },
  {
   "cell_type": "markdown",
   "id": "40a63ff6-99ff-4629-b965-547d12a99ba6",
   "metadata": {},
   "source": [
    "We will call our LangSmith project **001-simple-agent**."
   ]
  },
  {
   "cell_type": "markdown",
   "id": "2af01334-1e2d-446a-9c8a-e2eeba448ba9",
   "metadata": {},
   "source": [
    "## Connect with the .env file located in the same directory of this notebook"
   ]
  },
  {
   "cell_type": "markdown",
   "id": "3dceb033-99f7-4fcb-bded-448ae1e69af1",
   "metadata": {},
   "source": [
    "If you are using the pre-loaded poetry shell, you do not need to install the following package because it is already pre-loaded for you:"
   ]
  },
  {
   "cell_type": "code",
   "execution_count": 1,
   "id": "1b3a725a-01b2-4d05-b5a6-3e07deb3d6fc",
   "metadata": {},
   "outputs": [],
   "source": [
    "#!pip install python-dotenv"
   ]
  },
  {
   "cell_type": "code",
   "execution_count": 3,
   "id": "992ec4a9-aa01-4e44-aeb9-b9a1f3aa9e54",
   "metadata": {},
   "outputs": [],
   "source": [
    "import os\n",
    "from dotenv import load_dotenv, find_dotenv\n",
    "_ = load_dotenv(find_dotenv())\n",
    "openai_api_key = os.environ[\"OPENAI_API_KEY\"]"
   ]
  },
  {
   "cell_type": "markdown",
   "id": "6c01d18b-f9f0-427b-a9dc-3d1885160578",
   "metadata": {},
   "source": [
    "#### Install LangChain"
   ]
  },
  {
   "cell_type": "markdown",
   "id": "7b4727a5-9c90-47cc-92cc-a39b143668ab",
   "metadata": {},
   "source": [
    "If you are using the pre-loaded poetry shell, you do not need to install the following package because it is already pre-loaded for you:"
   ]
  },
  {
   "cell_type": "code",
   "execution_count": 3,
   "id": "ed746499-d1b8-41e5-b131-270cf5fa229b",
   "metadata": {},
   "outputs": [],
   "source": [
    "#!pip install langchain"
   ]
  },
  {
   "cell_type": "markdown",
   "id": "cc2af3ef-c2c7-445f-92bd-a29c68abce25",
   "metadata": {},
   "source": [
    "## Connect with an LLM and start a conversation with it"
   ]
  },
  {
   "cell_type": "markdown",
   "id": "d5bc8254-5e18-4e1d-bc88-8cb0d3d1f221",
   "metadata": {},
   "source": [
    "If you are using the pre-loaded poetry shell, you do not need to install the following package because it is already pre-loaded for you:"
   ]
  },
  {
   "cell_type": "code",
   "execution_count": 4,
   "id": "3fa7337f-3d60-4ede-bdf8-aa7a5cffec43",
   "metadata": {},
   "outputs": [],
   "source": [
    "#!pip install langchain-openai"
   ]
  },
  {
   "cell_type": "markdown",
   "id": "bce3551e-95ca-41a1-8810-89c495bf93ab",
   "metadata": {},
   "source": [
    "* For this project, we will use OpenAI's gpt-3.5-turbo"
   ]
  },
  {
   "cell_type": "code",
   "execution_count": 4,
   "id": "9afcbc7d-a816-41e3-925f-850883f5770d",
   "metadata": {},
   "outputs": [],
   "source": [
    "from langchain_openai import ChatOpenAI\n",
    "\n",
    "llm = ChatOpenAI(model=\"gpt-4o-mini\")"
   ]
  },
  {
   "cell_type": "markdown",
   "id": "9913fc8c-254f-410d-aa8f-35eb0898855e",
   "metadata": {},
   "source": [
    "#### Track the operation in LangSmith\n",
    "* [Open LangSmith here](smith.langchain.com)"
   ]
  },
  {
   "cell_type": "markdown",
   "id": "edabbbe2-3b88-4554-bb31-a135408a9495",
   "metadata": {},
   "source": [
    "## Agents\n",
    "* Agents use LLMs as reasoning engines to determine which actions to take."
   ]
  },
  {
   "cell_type": "markdown",
   "id": "3d0f80a4-02b5-4987-8f46-28cec86b4946",
   "metadata": {},
   "source": [
    "## Tool-using Agent\n",
    "* For this basic agent we will use just one tool. In next advanced projects, you will learn how to use agents with several tools.\n",
    "* **Our tool of choice will be Tavily** - a search engine. \n",
    "#### Tavily API Key\n",
    "* You will need to add your Tavily API key in the .env file. Obtain a key by signing up on their [website](https://tavily.com/)."
   ]
  },
  {
   "cell_type": "markdown",
   "id": "0701e301-30dd-4fe4-b5fc-b59e2573e8d7",
   "metadata": {},
   "source": [
    "If you are using the pre-loaded poetry shell, you do not need to install the following package because it is already pre-loaded for you:"
   ]
  },
  {
   "cell_type": "code",
   "execution_count": 6,
   "id": "ac0fe589-89fd-4edd-a526-c0f7e584612f",
   "metadata": {},
   "outputs": [],
   "source": [
    "#pip install langgraph"
   ]
  },
  {
   "cell_type": "markdown",
   "id": "6a5be8d9-3b54-4e65-beee-0df3237ad239",
   "metadata": {},
   "source": [
    "#### Define tools"
   ]
  },
  {
   "cell_type": "markdown",
   "id": "0fb82301-03b7-45ca-8588-e6c6fd0f53ae",
   "metadata": {},
   "source": [
    "If you are using the pre-loaded poetry shell, you do not need to install the following package because it is already pre-loaded for you:"
   ]
  },
  {
   "cell_type": "code",
   "execution_count": 7,
   "id": "350461a1-b8b3-463f-a97c-95fa931e2fc2",
   "metadata": {},
   "outputs": [],
   "source": [
    "#pip install langchain-community"
   ]
  },
  {
   "cell_type": "code",
   "execution_count": 6,
   "id": "41791f51-0372-42ce-9fb5-237323408617",
   "metadata": {},
   "outputs": [
    {
     "name": "stdout",
     "output_type": "stream",
     "text": [
      "[{'url': 'https://www.givemesport.com/ranking-best-players-euro-2024/', 'content': \"Bukayo Saka 3. Jude Bellingham The best player at Euro 2024 is... GiveMeSport. Menu ... make the top 20 players at this summer's European Championships. ... 3-0 victory and is one of several stars\"}, {'url': 'https://www.90min.com/features/10-best-players-euro-2024-ranked', 'content': \"The 10 best players of Euro 2024 - ranked The 10 best players of Euro 2024 - ranked The best players of Euro 2024 The Three Lions number one was once again in superb form for his nation throughout Euro 2024, particularly in the early rounds when England's attackers were struggling for form at the other end of the pitch. There was point during Euro 2024 in which Jamal Musiala looked certain to win Player of the Tournament. As expected, he was bloody brilliant at Euro 2024 for Spain and picked up the Player of the Tournament award, but he's not our winner...\"}]\n"
     ]
    }
   ],
   "source": [
    "from langchain_community.tools.tavily_search import TavilySearchResults\n",
    "search = TavilySearchResults(max_results=2)\n",
    "print(search.invoke(\"Who are the top stars of the 2024 Eurocup?\"))"
   ]
  },
  {
   "cell_type": "code",
   "execution_count": 7,
   "id": "69a2b11c-5c7c-40d8-aa37-5f6aeb4128c9",
   "metadata": {},
   "outputs": [],
   "source": [
    "tools = [search]"
   ]
  },
  {
   "cell_type": "markdown",
   "id": "2dc166a2",
   "metadata": {},
   "source": [
    "* **In order to enable this model to do tool calling we use .bind_tools** to give the language model knowledge of these tools:"
   ]
  },
  {
   "cell_type": "code",
   "execution_count": 8,
   "id": "c232d6a6-5b2d-4764-b2ea-58a9546a9fc2",
   "metadata": {},
   "outputs": [],
   "source": [
    "llm_with_tools = llm.bind_tools(tools)"
   ]
  },
  {
   "cell_type": "markdown",
   "id": "a22e045c",
   "metadata": {},
   "source": [
    "## Create the agent\n",
    "* We will be using LangGraph to construct the agent. \n",
    "* **Note that below we are passing in the origina chat model, not the llm_with_tools we built later**. That is because create_tool_calling_executor will call .bind_tools for us under the hood."
   ]
  },
  {
   "cell_type": "code",
   "execution_count": 11,
   "id": "3d358d2a-9b02-4761-b34c-66545149e4a3",
   "metadata": {},
   "outputs": [],
   "source": [
    "# from langgraph.prebuilt import chat_agent_executor\n",
    "\n",
    "# agent_executor = chat_agent_executor.create_tool_calling_executor(llm, tools)"
   ]
  },
  {
   "cell_type": "markdown",
   "id": "4725a91a-edff-49a3-85a7-37b40b63545b",
   "metadata": {},
   "source": [
    "* In the latest version of langgraph, we have a most modern way to do this:"
   ]
  },
  {
   "cell_type": "code",
   "execution_count": null,
   "id": "a2cf5dce-629b-472b-908d-f4a19606f16a",
   "metadata": {},
   "outputs": [],
   "source": [
    "from langgraph.prebuilt import create_react_agent\n",
    "\n",
    "agent_executor = create_react_agent(llm, tools)"
   ]
  },
  {
   "cell_type": "markdown",
   "id": "91674e8f",
   "metadata": {},
   "source": [
    "## Run the agent\n",
    "* Let's first try it with .invoke():"
   ]
  },
  {
   "cell_type": "code",
   "execution_count": 10,
   "id": "0074c0c0-ff35-42c4-b862-3b0aa6abbe54",
   "metadata": {},
   "outputs": [
    {
     "data": {
      "text/plain": [
       "[HumanMessage(content='Where is the soccer Eurocup 2024 played?', id='9bc9679f-3b64-4c58-8de4-e52329228a7f'),\n",
       " AIMessage(content='', additional_kwargs={'tool_calls': [{'id': 'call_66FnFc2tVWUr8IHYFWX0mUky', 'function': {'arguments': '{\"query\":\"Eurocup 2024 location\"}', 'name': 'tavily_search_results_json'}, 'type': 'function'}]}, response_metadata={'token_usage': {'completion_tokens': 23, 'prompt_tokens': 90, 'total_tokens': 113, 'prompt_tokens_details': {'cached_tokens': 0, 'audio_tokens': 0}, 'completion_tokens_details': {'reasoning_tokens': 0, 'audio_tokens': 0, 'accepted_prediction_tokens': 0, 'rejected_prediction_tokens': 0}}, 'model_name': 'gpt-4o-mini-2024-07-18', 'system_fingerprint': 'fp_6fc10e10eb', 'finish_reason': 'tool_calls', 'logprobs': None}, id='run-2c0f25a4-da1f-498f-b3ea-72a48065d0e3-0', tool_calls=[{'name': 'tavily_search_results_json', 'args': {'query': 'Eurocup 2024 location'}, 'id': 'call_66FnFc2tVWUr8IHYFWX0mUky', 'type': 'tool_call'}], usage_metadata={'input_tokens': 90, 'output_tokens': 23, 'total_tokens': 113}),\n",
       " ToolMessage(content='[{\"url\": \"https://www.foxsports.com/stories/soccer/euro-2024-locations-host-cities-and-stadiums\", \"content\": \"Euro 2024 Locations and Stadiums. Below is a list of the 2024 host cities as well as their stadiums and capacities: Berlin: Olympiastadion Berlin (Capacity: 74,461)\"}, {\"url\": \"https://olympics.com/en/news/uefa-euro-2024-venues-complete-list-when-where-final-opening-game\", \"content\": \"UEFA EURO 2024 will be held in Germany across June and July, with 10 host cities staging the major football tournament.. It all begins in Munich on June 14, when hosts Germany take on Scotland in the tournament\\'s opening game at Bayern Munich\\'s stadium.. The final takes place a month later on July 14 at Olympiastadion Berlin in the German capital, which hosted the 2006 FIFA World Cup final\"}]', name='tavily_search_results_json', id='9e0da21d-3b57-4f75-b7a5-d0457535d9b1', tool_call_id='call_66FnFc2tVWUr8IHYFWX0mUky'),\n",
       " AIMessage(content='The Eurocup 2024 will be held in Germany from June to July 2024. The tournament will feature matches in 10 host cities, with the opening game taking place in Munich on June 14 and the final scheduled for July 14 at the Olympiastadion in Berlin. \\n\\nFor more details, you can check the full list of host cities and stadiums [here](https://www.foxsports.com/stories/soccer/euro-2024-locations-host-cities-and-stadiums) or learn more about the venues [here](https://olympics.com/en/news/uefa-euro-2024-venues-complete-list-when-where-final-opening-game).', response_metadata={'token_usage': {'completion_tokens': 145, 'prompt_tokens': 332, 'total_tokens': 477, 'prompt_tokens_details': {'cached_tokens': 0, 'audio_tokens': 0}, 'completion_tokens_details': {'reasoning_tokens': 0, 'audio_tokens': 0, 'accepted_prediction_tokens': 0, 'rejected_prediction_tokens': 0}}, 'model_name': 'gpt-4o-mini-2024-07-18', 'system_fingerprint': 'fp_39a40c96a0', 'finish_reason': 'stop', 'logprobs': None}, id='run-18229612-e6e5-43ec-8132-3c01e58a344e-0', usage_metadata={'input_tokens': 332, 'output_tokens': 145, 'total_tokens': 477})]"
      ]
     },
     "execution_count": 10,
     "metadata": {},
     "output_type": "execute_result"
    }
   ],
   "source": [
    "from langchain_core.messages import HumanMessage\n",
    "\n",
    "response = agent_executor.invoke({\"messages\": [HumanMessage(content=\"Where is the soccer Eurocup 2024 played?\")]})\n",
    "\n",
    "response[\"messages\"]"
   ]
  },
  {
   "cell_type": "markdown",
   "id": "71504800-6cb3-4a33-91e3-0006c4200c3a",
   "metadata": {},
   "source": [
    "* Now let's try it with .stream():"
   ]
  },
  {
   "cell_type": "code",
   "execution_count": 11,
   "id": "0e9691c4-3bf4-4216-b9c5-54f146071d09",
   "metadata": {},
   "outputs": [
    {
     "name": "stdout",
     "output_type": "stream",
     "text": [
      "{'agent': {'messages': [AIMessage(content='', additional_kwargs={'tool_calls': [{'id': 'call_BKA2uBp7exTPl4GWHFG8lij3', 'function': {'arguments': '{\"query\":\"2024 Eurocup final match date and location\"}', 'name': 'tavily_search_results_json'}, 'type': 'function'}]}, response_metadata={'token_usage': {'completion_tokens': 26, 'prompt_tokens': 94, 'total_tokens': 120, 'prompt_tokens_details': {'cached_tokens': 0, 'audio_tokens': 0}, 'completion_tokens_details': {'reasoning_tokens': 0, 'audio_tokens': 0, 'accepted_prediction_tokens': 0, 'rejected_prediction_tokens': 0}}, 'model_name': 'gpt-4o-mini-2024-07-18', 'system_fingerprint': 'fp_6fc10e10eb', 'finish_reason': 'tool_calls', 'logprobs': None}, id='run-1604f822-b1ee-423a-af3e-3d673b04953e-0', tool_calls=[{'name': 'tavily_search_results_json', 'args': {'query': '2024 Eurocup final match date and location'}, 'id': 'call_BKA2uBp7exTPl4GWHFG8lij3', 'type': 'tool_call'}], usage_metadata={'input_tokens': 94, 'output_tokens': 26, 'total_tokens': 120})]}}\n",
      "----\n",
      "{'tools': {'messages': [ToolMessage(content='[{\"url\": \"https://en.wikipedia.org/wiki/UEFA_Euro_2024_Final\", \"content\": \"The UEFA Euro 2024 final was a football match that determined the winners of UEFA Euro 2024.The match was the seventeenth final of the European Championship, a quadrennial tournament contested by the men\\'s national teams of the member associations of UEFA to decide the champions of Europe. The match was held at the Olympiastadion in Berlin, Germany, on 14 July 2024, and was contested by Spain\"}, {\"url\": \"https://www.uefa.com/euro2024/news/0284-18bb952a9458-2a9e1ff202c4-1000--euro-2024-final-when-and-where-is-it/\", \"content\": \"The UEFA EURO 2024 final was played on Sunday 14 July, kicking off at 21:00 CET. The final: all the reaction The match took place at Olympiastadion Berlin, the biggest stadium at the tournament\"}]', name='tavily_search_results_json', tool_call_id='call_BKA2uBp7exTPl4GWHFG8lij3')]}}\n",
      "----\n",
      "{'agent': {'messages': [AIMessage(content='The 2024 Eurocup final will take place on **July 14, 2024**, at the **Olympiastadion in Berlin, Germany**. The match is scheduled to kick off at **21:00 CET**.', response_metadata={'token_usage': {'completion_tokens': 49, 'prompt_tokens': 351, 'total_tokens': 400, 'prompt_tokens_details': {'cached_tokens': 0, 'audio_tokens': 0}, 'completion_tokens_details': {'reasoning_tokens': 0, 'audio_tokens': 0, 'accepted_prediction_tokens': 0, 'rejected_prediction_tokens': 0}}, 'model_name': 'gpt-4o-mini-2024-07-18', 'system_fingerprint': 'fp_39a40c96a0', 'finish_reason': 'stop', 'logprobs': None}, id='run-cadfe2c6-f8b5-44ef-b54a-38b28c9f4a1f-0', usage_metadata={'input_tokens': 351, 'output_tokens': 49, 'total_tokens': 400})]}}\n",
      "----\n"
     ]
    }
   ],
   "source": [
    "for chunk in agent_executor.stream(\n",
    "    {\"messages\": [HumanMessage(content=\"When and where will it be the 2024 Eurocup final match?\")]}\n",
    "):\n",
    "    print(chunk)\n",
    "    print(\"----\")"
   ]
  },
  {
   "cell_type": "markdown",
   "id": "bd52ab92-41fa-4116-9e0b-9c13eb1668ad",
   "metadata": {},
   "source": [
    "## Adding memory\n",
    "* Adding memory in LangGraph is very similar to what we did with LangChain."
   ]
  },
  {
   "cell_type": "code",
   "execution_count": 12,
   "id": "79cc4f48-8e1e-45a4-9925-4f70cd841455",
   "metadata": {},
   "outputs": [],
   "source": [
    "from langgraph.checkpoint.memory import MemorySaver\n",
    "\n",
    "memory = MemorySaver()"
   ]
  },
  {
   "cell_type": "markdown",
   "id": "54d8441e-2573-4f5d-9671-66b41b707fd6",
   "metadata": {},
   "source": [
    "* Let's create our new agent with memory and set one thread_id so the agent can create a memory for each session as we did with our previous conversational RAG app:"
   ]
  },
  {
   "cell_type": "code",
   "execution_count": 13,
   "id": "db243a40-84de-4e89-a30d-9792717ac619",
   "metadata": {},
   "outputs": [],
   "source": [
    "agent_executor = create_react_agent(llm, tools, checkpointer=memory)\n",
    "\n",
    "config = {\"configurable\": {\"thread_id\": \"001\"}}"
   ]
  },
  {
   "cell_type": "markdown",
   "id": "665c6f6a-9dd3-4336-b2aa-a510da135893",
   "metadata": {},
   "source": [
    "* Let's now try this new agent with .stream():"
   ]
  },
  {
   "cell_type": "code",
   "execution_count": 14,
   "id": "ad9e8c0f-6352-478f-b376-69167a24471d",
   "metadata": {},
   "outputs": [
    {
     "name": "stdout",
     "output_type": "stream",
     "text": [
      "{'agent': {'messages': [AIMessage(content='', additional_kwargs={'tool_calls': [{'id': 'call_bZDJoeeACTs1s6HTiICpPaw4', 'function': {'arguments': '{\"query\":\"2024 soccer Eurocup winner\"}', 'name': 'tavily_search_results_json'}, 'type': 'function'}]}, response_metadata={'token_usage': {'completion_tokens': 23, 'prompt_tokens': 89, 'total_tokens': 112, 'prompt_tokens_details': {'cached_tokens': 0, 'audio_tokens': 0}, 'completion_tokens_details': {'reasoning_tokens': 0, 'audio_tokens': 0, 'accepted_prediction_tokens': 0, 'rejected_prediction_tokens': 0}}, 'model_name': 'gpt-4o-mini-2024-07-18', 'system_fingerprint': 'fp_6fc10e10eb', 'finish_reason': 'tool_calls', 'logprobs': None}, id='run-02da9e92-701e-41bb-9c24-b2d56b7360eb-0', tool_calls=[{'name': 'tavily_search_results_json', 'args': {'query': '2024 soccer Eurocup winner'}, 'id': 'call_bZDJoeeACTs1s6HTiICpPaw4', 'type': 'tool_call'}], usage_metadata={'input_tokens': 89, 'output_tokens': 23, 'total_tokens': 112})]}}\n",
      "----\n",
      "{'tools': {'messages': [ToolMessage(content='[{\"url\": \"https://en.wikipedia.org/wiki/UEFA_Euro_2024_Final\", \"content\": \"The UEFA Euro 2024 final was a football match that determined the winners of UEFA Euro 2024.The match was the seventeenth final of the European Championship, a quadrennial tournament contested by the men\\'s national teams of the member associations of UEFA to decide the champions of Europe. The match was held at the Olympiastadion in Berlin, Germany, on 14 July 2024, and was contested by Spain\"}, {\"url\": \"https://www.sportingnews.com/us/soccer/news/who-won-euro-2024-spain-england-oyarzabal/19ab0b3bf663194bc5193e50\", \"content\": \"Spain won the 2024 European Championship, becoming the first team to lift the trophy four times, beating England 2-1 thanks to a late winner from Mikel Oyarzabal.\"}]', name='tavily_search_results_json', tool_call_id='call_bZDJoeeACTs1s6HTiICpPaw4')]}}\n",
      "----\n",
      "{'agent': {'messages': [AIMessage(content=\"Spain won the 2024 Eurocup, defeating England 2-1 in the final, which took place on July 14, 2024. This victory marked Spain's fourth European Championship title. You can read more about it [here](https://www.sportingnews.com/us/soccer/news/who-won-euro-2024-spain-england-oyarzabal/19ab0b3bf663194bc5193e50).\", response_metadata={'token_usage': {'completion_tokens': 96, 'prompt_tokens': 329, 'total_tokens': 425, 'prompt_tokens_details': {'cached_tokens': 0, 'audio_tokens': 0}, 'completion_tokens_details': {'reasoning_tokens': 0, 'audio_tokens': 0, 'accepted_prediction_tokens': 0, 'rejected_prediction_tokens': 0}}, 'model_name': 'gpt-4o-mini-2024-07-18', 'system_fingerprint': 'fp_39a40c96a0', 'finish_reason': 'stop', 'logprobs': None}, id='run-d1f15701-1c4c-4aba-a441-2033167d1be3-0', usage_metadata={'input_tokens': 329, 'output_tokens': 96, 'total_tokens': 425})]}}\n",
      "----\n"
     ]
    }
   ],
   "source": [
    "for chunk in agent_executor.stream(\n",
    "    {\"messages\": [HumanMessage(content=\"Who won the 2024 soccer Eurocup?\")]}, config\n",
    "):\n",
    "    print(chunk)\n",
    "    print(\"----\")"
   ]
  },
  {
   "cell_type": "code",
   "execution_count": 15,
   "id": "b163e8bd-f80b-4c2b-8c77-8ba84c12e9a2",
   "metadata": {},
   "outputs": [
    {
     "name": "stdout",
     "output_type": "stream",
     "text": [
      "{'agent': {'messages': [AIMessage(content='', additional_kwargs={'tool_calls': [{'id': 'call_MfIKtLfSBdIMiJI9H4QwlK3b', 'function': {'arguments': '{\"query\":\"top players Spain Euro 2024 team\"}', 'name': 'tavily_search_results_json'}, 'type': 'function'}]}, response_metadata={'token_usage': {'completion_tokens': 25, 'prompt_tokens': 442, 'total_tokens': 467, 'prompt_tokens_details': {'cached_tokens': 0, 'audio_tokens': 0}, 'completion_tokens_details': {'reasoning_tokens': 0, 'audio_tokens': 0, 'accepted_prediction_tokens': 0, 'rejected_prediction_tokens': 0}}, 'model_name': 'gpt-4o-mini-2024-07-18', 'system_fingerprint': 'fp_39a40c96a0', 'finish_reason': 'tool_calls', 'logprobs': None}, id='run-34b890b0-2a3f-43ee-9da4-be74220d8402-0', tool_calls=[{'name': 'tavily_search_results_json', 'args': {'query': 'top players Spain Euro 2024 team'}, 'id': 'call_MfIKtLfSBdIMiJI9H4QwlK3b', 'type': 'tool_call'}], usage_metadata={'input_tokens': 442, 'output_tokens': 25, 'total_tokens': 467})]}}\n",
      "----\n",
      "{'tools': {'messages': [ToolMessage(content='[{\"url\": \"https://thetrivelaeffect.com/ranking-the-5-best-spain-players-at-euro-2024/\", \"content\": \"Ranking the 5 best Spain players at Euro 2024 Here are the best Spain players we\\\\u2019ll be watching at Euro 2024. As long as he keeps that up, he will be one of Spain\\\\u2019s best players at Euro 2024. Williams can create space for himself with the ball at his feet and deliver killer final passes to players like Morata, Joselu, and Spain\\\\u2019s other forwards. Against Northern Ireland in Spain\\\\u2019s last friendly before the Euros, Pedri scored two goals playing as a No. 10. When you add in his abilities to play line-breaking passes and score from outside the box, Rodri isn\\\\u2019t just one of Spain\\\\u2019s best players.\"}, {\"url\": \"https://prosoccerwire.usatoday.com/lists/spain-euro-2024-squad/\", \"content\": \"Spain head coach Luis de la Fuente has named his final 26-man roster for Euro 2024. De la Fuente originally named a 29-man squad, with Pau Cubars\\\\u00ed, Marcos Llorente and Aleix Garc\\\\u00eda the final cuts.\"}]', name='tavily_search_results_json', tool_call_id='call_MfIKtLfSBdIMiJI9H4QwlK3b')]}}\n",
      "----\n",
      "{'agent': {'messages': [AIMessage(content='', additional_kwargs={'tool_calls': [{'id': 'call_HX9BxnbizifuR9PiDNymZePD', 'function': {'arguments': '{\"query\":\"Spain Euro 2024 star players list\"}', 'name': 'tavily_search_results_json'}, 'type': 'function'}]}, response_metadata={'token_usage': {'completion_tokens': 25, 'prompt_tokens': 757, 'total_tokens': 782, 'prompt_tokens_details': {'cached_tokens': 0, 'audio_tokens': 0}, 'completion_tokens_details': {'reasoning_tokens': 0, 'audio_tokens': 0, 'accepted_prediction_tokens': 0, 'rejected_prediction_tokens': 0}}, 'model_name': 'gpt-4o-mini-2024-07-18', 'system_fingerprint': 'fp_39a40c96a0', 'finish_reason': 'tool_calls', 'logprobs': None}, id='run-86cece37-b578-4bf2-bcd2-869b0e8875fe-0', tool_calls=[{'name': 'tavily_search_results_json', 'args': {'query': 'Spain Euro 2024 star players list'}, 'id': 'call_HX9BxnbizifuR9PiDNymZePD', 'type': 'tool_call'}], usage_metadata={'input_tokens': 757, 'output_tokens': 25, 'total_tokens': 782})]}}\n",
      "----\n",
      "{'tools': {'messages': [ToolMessage(content='[{\"url\": \"https://www.sportingnews.com/us/soccer/news/spain-euro-2024-squad-players-national-team-roster/55527da1f91a1608da30a768\", \"content\": \"Barcelona\\'s 16-year-old Lamine Yamal was named in Spain\\'s 26-man squad for Euro 2024 by head coach Luis de la Fuente. The teenager\\'s Barcelona teammate Pedri was also included alongside fellow\"}, {\"url\": \"https://www.espn.com/soccer/team/squad/_/id/164/league/UEFA.EURO/season/2024\", \"content\": \"Explore the 2024 Spain UEFA European Championship roster on ESPN. Includes full details on appearances, minutes played, goals and assists.\"}]', name='tavily_search_results_json', tool_call_id='call_HX9BxnbizifuR9PiDNymZePD')]}}\n",
      "----\n",
      "{'agent': {'messages': [AIMessage(content=\"The top stars of the Spain team during the Euro 2024 tournament included:\\n\\n1. **Mikel Oyarzabal** - Scored the late winner in the final against England.\\n2. **Pedri** - A key playmaker known for his creativity and goal-scoring ability.\\n3. **Alvaro Morata** - An experienced forward who contributed significantly to the team's success.\\n4. **Rodri** - A midfielder recognized for his defensive skills and ability to control the game.\\n5. **Lamine Yamal** - The young talent who made headlines as a 16-year-old included in the squad.\\n\\nThese players played crucial roles in leading Spain to victory in the tournament. For more detailed information, you can check out the full squad [here](https://www.sportingnews.com/us/soccer/news/spain-euro-2024-squad-players-national-team-roster/55527da1f91a1608da30a768).\", response_metadata={'token_usage': {'completion_tokens': 199, 'prompt_tokens': 958, 'total_tokens': 1157, 'prompt_tokens_details': {'cached_tokens': 0, 'audio_tokens': 0}, 'completion_tokens_details': {'reasoning_tokens': 0, 'audio_tokens': 0, 'accepted_prediction_tokens': 0, 'rejected_prediction_tokens': 0}}, 'model_name': 'gpt-4o-mini-2024-07-18', 'system_fingerprint': 'fp_39a40c96a0', 'finish_reason': 'stop', 'logprobs': None}, id='run-ec91af71-6acb-44ad-9a1c-edc6b474383c-0', usage_metadata={'input_tokens': 958, 'output_tokens': 199, 'total_tokens': 1157})]}}\n",
      "----\n"
     ]
    }
   ],
   "source": [
    "for chunk in agent_executor.stream(\n",
    "    {\"messages\": [HumanMessage(content=\"Who were the top stars of that winner team?\")]}, config\n",
    "):\n",
    "    print(chunk)\n",
    "    print(\"----\")"
   ]
  },
  {
   "cell_type": "markdown",
   "id": "fa47f438-7996-4004-8c28-004f6b9292c1",
   "metadata": {},
   "source": [
    "* Let's change the thread_id and see what happens:"
   ]
  },
  {
   "cell_type": "code",
   "execution_count": 16,
   "id": "464c7bce-dd1b-43e2-b6fa-a8e5edb88fe0",
   "metadata": {},
   "outputs": [
    {
     "name": "stdout",
     "output_type": "stream",
     "text": [
      "{'agent': {'messages': [AIMessage(content=\"Could you please provide more context or specify which soccer team you're referring to? There are many teams around the world, and I want to ensure I give you the correct information.\", response_metadata={'token_usage': {'completion_tokens': 36, 'prompt_tokens': 87, 'total_tokens': 123, 'prompt_tokens_details': {'cached_tokens': 0, 'audio_tokens': 0}, 'completion_tokens_details': {'reasoning_tokens': 0, 'audio_tokens': 0, 'accepted_prediction_tokens': 0, 'rejected_prediction_tokens': 0}}, 'model_name': 'gpt-4o-mini-2024-07-18', 'system_fingerprint': 'fp_6fc10e10eb', 'finish_reason': 'stop', 'logprobs': None}, id='run-ba6c22af-67f1-4aed-adf8-92b90e3436df-0', usage_metadata={'input_tokens': 87, 'output_tokens': 36, 'total_tokens': 123})]}}\n",
      "----\n"
     ]
    }
   ],
   "source": [
    "config = {\"configurable\": {\"thread_id\": \"002\"}}\n",
    "for chunk in agent_executor.stream(\n",
    "    {\"messages\": [HumanMessage(content=\"About what soccer team we were talking?\")]}, config\n",
    "):\n",
    "    print(chunk)\n",
    "    print(\"----\")"
   ]
  },
  {
   "cell_type": "markdown",
   "id": "afd3a024-a9e6-486b-b03d-accde68e49cd",
   "metadata": {},
   "source": [
    "* As you can see, when we changed the thread_id we started a different conversation memory, so our app does not remember the previous interaction and instead of giving us the right answer it decided to hallucinate."
   ]
  },
  {
   "cell_type": "markdown",
   "id": "df94de21-8967-49ea-8709-d0cfb4306acf",
   "metadata": {},
   "source": [
    "## How to execute the code from Visual Studio Code\n",
    "* In Visual Studio Code, see the file 001-simple-agent.py\n",
    "* In terminal, make sure you are in the directory of the file and run:\n",
    "    * python 001-simple-agent.py"
   ]
  },
  {
   "cell_type": "code",
   "execution_count": null,
   "id": "be0da530-4acc-4f67-b382-b59e8e71acb3",
   "metadata": {},
   "outputs": [],
   "source": []
  }
 ],
 "metadata": {
  "kernelspec": {
   "display_name": "04-simple-agent-AuJqJwrQ-py3.11",
   "language": "python",
   "name": "python3"
  },
  "language_info": {
   "codemirror_mode": {
    "name": "ipython",
    "version": 3
   },
   "file_extension": ".py",
   "mimetype": "text/x-python",
   "name": "python",
   "nbconvert_exporter": "python",
   "pygments_lexer": "ipython3",
   "version": "3.11.4"
  }
 },
 "nbformat": 4,
 "nbformat_minor": 5
}
